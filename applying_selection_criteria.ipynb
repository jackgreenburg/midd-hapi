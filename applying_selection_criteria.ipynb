{
 "cells": [
  {
   "cell_type": "code",
   "execution_count": 1,
   "id": "8f5031e3-0fde-4cae-894c-5631b21ff426",
   "metadata": {},
   "outputs": [],
   "source": [
    "import json\n",
    "import os\n",
    "\n",
    "import matplotlib.pyplot as plt\n",
    "import numpy as np\n",
    "import pandas as pd"
   ]
  },
  {
   "cell_type": "code",
   "execution_count": 2,
   "id": "35e56e69-4a9f-4646-8d09-e427937b03b3",
   "metadata": {},
   "outputs": [],
   "source": [
    "# LOCATION = \"../pressure_injury_data\" \n",
    "LOCATION = \"../new_pressure_injury_data\" \n",
    "\n",
    "\n",
    "admission_df = pd.read_csv(os.path.join(LOCATION, \"ADMISSION.csv\"))\n",
    "disch_df = pd.read_csv(os.path.join(LOCATION, \"DISCH_DX.csv\"))"
   ]
  },
  {
   "cell_type": "markdown",
   "id": "b05ba4c2-e004-450b-934d-88598be15bc8",
   "metadata": {},
   "source": [
    "### Add missing POA data from 2011-2015"
   ]
  },
  {
   "cell_type": "code",
   "execution_count": 4,
   "id": "cff44426-7a39-4d9b-bdbe-c236c7146503",
   "metadata": {},
   "outputs": [],
   "source": [
    "missing_poa_df = pd.read_csv(os.path.join(LOCATION, \"2011_2015_pressure_sores_poa_for_delivery.csv\"))\n",
    "missing_poa_df = missing_poa_df.head(missing_poa_df.POA.value_counts()[1])"
   ]
  },
  {
   "cell_type": "code",
   "execution_count": 5,
   "id": "d06b82e6-2089-4a85-97b6-93fe1b6df6b9",
   "metadata": {},
   "outputs": [
    {
     "data": {
      "text/plain": [
       "0       None\n",
       "1       None\n",
       "2       None\n",
       "3       None\n",
       "4       None\n",
       "        ... \n",
       "1042    None\n",
       "1043    None\n",
       "1044    None\n",
       "1045    None\n",
       "1046    None\n",
       "Length: 1047, dtype: object"
      ]
     },
     "execution_count": 5,
     "metadata": {},
     "output_type": "execute_result"
    }
   ],
   "source": [
    "def add_missing_poa(x):\n",
    "    indices = admission_df.query(f\"DE_ID_PAT_ID == '{x.DE_ID_PAT_ID}' & ENCOUNTER_COUNTER == {x.ENCOUNTER_COUNTER}\").index\n",
    "    assert len(indices) == 1\n",
    "    admission_df.at[indices[0],\"POA\"] = 1\n",
    "    \n",
    "missing_poa_df.apply(lambda x: add_missing_poa(x), axis=1)"
   ]
  },
  {
   "cell_type": "code",
   "execution_count": 6,
   "id": "0ff1847f-1b5b-4908-825c-613e3e2bad39",
   "metadata": {},
   "outputs": [],
   "source": [
    "def check_L89(row):\n",
    "    for val in row:\n",
    "        if isinstance(val, str) and \"L89\" in val:\n",
    "            return 1\n",
    "    return 0"
   ]
  },
  {
   "cell_type": "code",
   "execution_count": 7,
   "id": "6416fe0c-87ed-4671-8c05-d37b0144a0ab",
   "metadata": {},
   "outputs": [],
   "source": [
    "encounters_grouped = admission_df.groupby(['DE_ID_PAT_ID', 'ENCOUNTER_COUNTER'])[[\"WOUND_CARE_NURSE_CONSULT\", \"WOUND_CARE_TEAM_CONSULT\", \"POA\"]].max()"
   ]
  },
  {
   "cell_type": "markdown",
   "id": "d549ee76-785c-4442-aaf3-7f4e51babbdc",
   "metadata": {
    "tags": []
   },
   "source": [
    "#### Selection criteria:\n",
    "- Wound care team and wound care nurse consult\n",
    "- No POA\n",
    "- Yes L89\n",
    "\n",
    "Yields only 1 patients consult AND wound care nurse consult\n",
    "- Only one patient"
   ]
  },
  {
   "cell_type": "code",
   "execution_count": 27,
   "id": "adc525f5-cf8a-4a5c-b003-972359e8528e",
   "metadata": {},
   "outputs": [
    {
     "name": "stdout",
     "output_type": "stream",
     "text": [
      "Save to '../new_pressure_injury_data/new_indices_of_positive.json'? \n",
      "(Y/[N]) n\n"
     ]
    },
    {
     "name": "stdout",
     "output_type": "stream",
     "text": [
      "Not saved.\n"
     ]
    },
    {
     "data": {
      "text/plain": [
       "'../new_pressure_injury_data/new_indices_of_positive.json'"
      ]
     },
     "execution_count": 27,
     "metadata": {},
     "output_type": "execute_result"
    }
   ],
   "source": [
    "def positive_to_json(boolean_array, path):\n",
    "    assert isinstance(boolean_array, pd.Series)\n",
    "    pos_locs = boolean_array\n",
    "    pos_locs = pos_locs[pos_locs].index.values\n",
    "    \n",
    "    if False or input(f\"Save to '{path}'? \\n(Y/[N])\") == \"Y\":\n",
    "        with open(path, 'w') as f:\n",
    "            json.dump(pos_locs.tolist(), f)\n",
    "        print(\"Saved.\")\n",
    "    else:\n",
    "        print(\"Not saved.\")\n",
    "\n",
    "    \n",
    "    \n",
    "    return path\n",
    "\n",
    "path = os.path.join(LOCATION, \"new_indices_of_positive.json\")\n",
    "positive_to_json((encounters_grouped.POA == 0) & (encounters_grouped.L89_ON_DISCHARGE == 1), path)"
   ]
  }
 ],
 "metadata": {
  "kernelspec": {
   "display_name": "GreenburgPath",
   "language": "python",
   "name": "greenburgpath"
  },
  "language_info": {
   "codemirror_mode": {
    "name": "ipython",
    "version": 3
   },
   "file_extension": ".py",
   "mimetype": "text/x-python",
   "name": "python",
   "nbconvert_exporter": "python",
   "pygments_lexer": "ipython3",
   "version": "3.8.13"
  }
 },
 "nbformat": 4,
 "nbformat_minor": 5
}
